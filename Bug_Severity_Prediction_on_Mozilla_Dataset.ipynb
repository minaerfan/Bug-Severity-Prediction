{
 "cells": [
  {
   "cell_type": "code",
   "execution_count": 1,
   "metadata": {
    "ExecuteTime": {
     "end_time": "2024-12-23T22:30:12.492501Z",
     "start_time": "2024-12-23T22:30:06.663606Z"
    },
    "colab": {
     "base_uri": "https://localhost:8080/"
    },
    "id": "nPtQJMt_3urM",
    "outputId": "eedc7df1-d3a4-4d54-d1fd-9594da10cca0"
   },
   "outputs": [
    {
     "name": "stdout",
     "output_type": "stream",
     "text": [
      "Requirement already satisfied: pandas in ./.venv/lib/python3.12/site-packages (2.2.1)\r\n",
      "Requirement already satisfied: numpy in ./.venv/lib/python3.12/site-packages (1.26.4)\r\n",
      "Requirement already satisfied: scikit-learn in ./.venv/lib/python3.12/site-packages (1.6.0)\r\n",
      "Requirement already satisfied: lightgbm in ./.venv/lib/python3.12/site-packages (4.5.0)\r\n",
      "Requirement already satisfied: tensorflow in ./.venv/lib/python3.12/site-packages (2.18.0)\r\n",
      "Requirement already satisfied: matplotlib in ./.venv/lib/python3.12/site-packages (3.8.3)\r\n",
      "Requirement already satisfied: imbalanced-learn in ./.venv/lib/python3.12/site-packages (0.12.4)\r\n",
      "Requirement already satisfied: gensim in ./.venv/lib/python3.12/site-packages (4.3.3)\r\n",
      "Requirement already satisfied: python-dateutil>=2.8.2 in ./.venv/lib/python3.12/site-packages (from pandas) (2.9.0.post0)\r\n",
      "Requirement already satisfied: pytz>=2020.1 in ./.venv/lib/python3.12/site-packages (from pandas) (2024.1)\r\n",
      "Requirement already satisfied: tzdata>=2022.7 in ./.venv/lib/python3.12/site-packages (from pandas) (2024.1)\r\n",
      "Requirement already satisfied: scipy>=1.6.0 in ./.venv/lib/python3.12/site-packages (from scikit-learn) (1.12.0)\r\n",
      "Requirement already satisfied: joblib>=1.2.0 in ./.venv/lib/python3.12/site-packages (from scikit-learn) (1.3.2)\r\n",
      "Requirement already satisfied: threadpoolctl>=3.1.0 in ./.venv/lib/python3.12/site-packages (from scikit-learn) (3.3.0)\r\n",
      "Requirement already satisfied: absl-py>=1.0.0 in ./.venv/lib/python3.12/site-packages (from tensorflow) (2.1.0)\r\n",
      "Requirement already satisfied: astunparse>=1.6.0 in ./.venv/lib/python3.12/site-packages (from tensorflow) (1.6.3)\r\n",
      "Requirement already satisfied: flatbuffers>=24.3.25 in ./.venv/lib/python3.12/site-packages (from tensorflow) (24.3.25)\r\n",
      "Requirement already satisfied: gast!=0.5.0,!=0.5.1,!=0.5.2,>=0.2.1 in ./.venv/lib/python3.12/site-packages (from tensorflow) (0.6.0)\r\n",
      "Requirement already satisfied: google-pasta>=0.1.1 in ./.venv/lib/python3.12/site-packages (from tensorflow) (0.2.0)\r\n",
      "Requirement already satisfied: libclang>=13.0.0 in ./.venv/lib/python3.12/site-packages (from tensorflow) (18.1.1)\r\n",
      "Requirement already satisfied: opt-einsum>=2.3.2 in ./.venv/lib/python3.12/site-packages (from tensorflow) (3.4.0)\r\n",
      "Requirement already satisfied: packaging in ./.venv/lib/python3.12/site-packages (from tensorflow) (24.0)\r\n",
      "Requirement already satisfied: protobuf!=4.21.0,!=4.21.1,!=4.21.2,!=4.21.3,!=4.21.4,!=4.21.5,<6.0.0dev,>=3.20.3 in ./.venv/lib/python3.12/site-packages (from tensorflow) (4.25.3)\r\n",
      "Requirement already satisfied: requests<3,>=2.21.0 in ./.venv/lib/python3.12/site-packages (from tensorflow) (2.31.0)\r\n",
      "Requirement already satisfied: setuptools in ./.venv/lib/python3.12/site-packages (from tensorflow) (70.0.0)\r\n",
      "Requirement already satisfied: six>=1.12.0 in ./.venv/lib/python3.12/site-packages (from tensorflow) (1.16.0)\r\n",
      "Requirement already satisfied: termcolor>=1.1.0 in ./.venv/lib/python3.12/site-packages (from tensorflow) (2.5.0)\r\n",
      "Requirement already satisfied: typing-extensions>=3.6.6 in ./.venv/lib/python3.12/site-packages (from tensorflow) (4.11.0)\r\n",
      "Requirement already satisfied: wrapt>=1.11.0 in ./.venv/lib/python3.12/site-packages (from tensorflow) (1.17.0)\r\n",
      "Requirement already satisfied: grpcio<2.0,>=1.24.3 in ./.venv/lib/python3.12/site-packages (from tensorflow) (1.68.1)\r\n",
      "Requirement already satisfied: tensorboard<2.19,>=2.18 in ./.venv/lib/python3.12/site-packages (from tensorflow) (2.18.0)\r\n",
      "Requirement already satisfied: keras>=3.5.0 in ./.venv/lib/python3.12/site-packages (from tensorflow) (3.7.0)\r\n",
      "Requirement already satisfied: h5py>=3.11.0 in ./.venv/lib/python3.12/site-packages (from tensorflow) (3.12.1)\r\n",
      "Requirement already satisfied: ml-dtypes<0.5.0,>=0.4.0 in ./.venv/lib/python3.12/site-packages (from tensorflow) (0.4.1)\r\n",
      "Requirement already satisfied: contourpy>=1.0.1 in ./.venv/lib/python3.12/site-packages (from matplotlib) (1.2.0)\r\n",
      "Requirement already satisfied: cycler>=0.10 in ./.venv/lib/python3.12/site-packages (from matplotlib) (0.12.1)\r\n",
      "Requirement already satisfied: fonttools>=4.22.0 in ./.venv/lib/python3.12/site-packages (from matplotlib) (4.49.0)\r\n",
      "Requirement already satisfied: kiwisolver>=1.3.1 in ./.venv/lib/python3.12/site-packages (from matplotlib) (1.4.5)\r\n",
      "Requirement already satisfied: pillow>=8 in ./.venv/lib/python3.12/site-packages (from matplotlib) (10.2.0)\r\n",
      "Requirement already satisfied: pyparsing>=2.3.1 in ./.venv/lib/python3.12/site-packages (from matplotlib) (3.1.2)\r\n",
      "Requirement already satisfied: smart-open>=1.8.1 in ./.venv/lib/python3.12/site-packages (from gensim) (7.1.0)\r\n",
      "Requirement already satisfied: wheel<1.0,>=0.23.0 in ./.venv/lib/python3.12/site-packages (from astunparse>=1.6.0->tensorflow) (0.45.1)\r\n",
      "Requirement already satisfied: rich in ./.venv/lib/python3.12/site-packages (from keras>=3.5.0->tensorflow) (13.9.4)\r\n",
      "Requirement already satisfied: namex in ./.venv/lib/python3.12/site-packages (from keras>=3.5.0->tensorflow) (0.0.8)\r\n",
      "Requirement already satisfied: optree in ./.venv/lib/python3.12/site-packages (from keras>=3.5.0->tensorflow) (0.13.1)\r\n",
      "Requirement already satisfied: charset-normalizer<4,>=2 in ./.venv/lib/python3.12/site-packages (from requests<3,>=2.21.0->tensorflow) (3.3.2)\r\n",
      "Requirement already satisfied: idna<4,>=2.5 in ./.venv/lib/python3.12/site-packages (from requests<3,>=2.21.0->tensorflow) (3.6)\r\n",
      "Requirement already satisfied: urllib3<3,>=1.21.1 in ./.venv/lib/python3.12/site-packages (from requests<3,>=2.21.0->tensorflow) (2.2.1)\r\n",
      "Requirement already satisfied: certifi>=2017.4.17 in ./.venv/lib/python3.12/site-packages (from requests<3,>=2.21.0->tensorflow) (2024.8.30)\r\n",
      "Requirement already satisfied: markdown>=2.6.8 in ./.venv/lib/python3.12/site-packages (from tensorboard<2.19,>=2.18->tensorflow) (3.7)\r\n",
      "Requirement already satisfied: tensorboard-data-server<0.8.0,>=0.7.0 in ./.venv/lib/python3.12/site-packages (from tensorboard<2.19,>=2.18->tensorflow) (0.7.2)\r\n",
      "Requirement already satisfied: werkzeug>=1.0.1 in ./.venv/lib/python3.12/site-packages (from tensorboard<2.19,>=2.18->tensorflow) (3.1.3)\r\n",
      "Requirement already satisfied: MarkupSafe>=2.1.1 in ./.venv/lib/python3.12/site-packages (from werkzeug>=1.0.1->tensorboard<2.19,>=2.18->tensorflow) (2.1.5)\r\n",
      "Requirement already satisfied: markdown-it-py>=2.2.0 in ./.venv/lib/python3.12/site-packages (from rich->keras>=3.5.0->tensorflow) (3.0.0)\r\n",
      "Requirement already satisfied: pygments<3.0.0,>=2.13.0 in ./.venv/lib/python3.12/site-packages (from rich->keras>=3.5.0->tensorflow) (2.18.0)\r\n",
      "Requirement already satisfied: mdurl~=0.1 in ./.venv/lib/python3.12/site-packages (from markdown-it-py>=2.2.0->rich->keras>=3.5.0->tensorflow) (0.1.2)\r\n",
      "Requirement already satisfied: scikit-learn in ./.venv/lib/python3.12/site-packages (1.6.0)\r\n",
      "Requirement already satisfied: numpy>=1.19.5 in ./.venv/lib/python3.12/site-packages (from scikit-learn) (1.26.4)\r\n",
      "Requirement already satisfied: scipy>=1.6.0 in ./.venv/lib/python3.12/site-packages (from scikit-learn) (1.12.0)\r\n",
      "Requirement already satisfied: joblib>=1.2.0 in ./.venv/lib/python3.12/site-packages (from scikit-learn) (1.3.2)\r\n",
      "Requirement already satisfied: threadpoolctl>=3.1.0 in ./.venv/lib/python3.12/site-packages (from scikit-learn) (3.3.0)\r\n"
     ]
    }
   ],
   "source": [
    "!pip install pandas numpy scikit-learn lightgbm tensorflow matplotlib imbalanced-learn gensim\n",
    "!pip install -U scikit-learn\n",
    "import pandas as pd\n",
    "import numpy as np\n",
    "from sklearn.model_selection import train_test_split, GridSearchCV\n",
    "from sklearn.metrics import classification_report, precision_score, recall_score, f1_score\n",
    "from imblearn.over_sampling import SMOTE\n",
    "import lightgbm as lgb\n",
    "from tensorflow.keras.models import Sequential\n",
    "from tensorflow.keras.layers import Embedding, Conv1D, GlobalMaxPooling1D, Dense, Dropout\n",
    "from tensorflow.keras.preprocessing.text import Tokenizer\n",
    "from tensorflow.keras.preprocessing.sequence import pad_sequences\n",
    "from tensorflow.keras.layers import LSTM, Bidirectional\n",
    "import matplotlib.pyplot as plt\n",
    "import warnings\n",
    "from gensim.models import KeyedVectors\n",
    "import time"
   ]
  },
  {
   "cell_type": "code",
   "execution_count": 2,
   "metadata": {
    "ExecuteTime": {
     "end_time": "2024-12-23T22:30:28.427536Z",
     "start_time": "2024-12-23T22:30:23.893844Z"
    },
    "id": "siElDCy-4NL8"
   },
   "outputs": [],
   "source": [
    "#Loading dataset\n",
    "dataset_path = 'Mozilla_bugs_data.csv'\n",
    "data = pd.read_csv(dataset_path)"
   ]
  },
  {
   "cell_type": "code",
   "execution_count": 3,
   "metadata": {
    "ExecuteTime": {
     "end_time": "2024-12-23T22:30:30.017233Z",
     "start_time": "2024-12-23T22:30:30.009146Z"
    },
    "colab": {
     "base_uri": "https://localhost:8080/"
    },
    "id": "O9eBC6MK4jLA",
    "outputId": "617c1be0-c9cf-454b-f7e3-e42f4617c00d"
   },
   "outputs": [
    {
     "name": "stdout",
     "output_type": "stream",
     "text": [
      "First few rows of the dataset:\n",
      "   Bug ID                                            Product  \\\n",
      "0     384  Mozilla (when: 895615200, who: 31); Bugzilla (...   \n",
      "1     540  Bugzilla (when: 904209063, who: 3794); Webtool...   \n",
      "2     939  Mozilla (when: 907138582, who: 3964); Webtools...   \n",
      "3     920  NGLayout (when: 906958277, who: 3960); Mozilla...   \n",
      "4    1658  Mozilla (when: 911995846, who: 4137); NGLayout...   \n",
      "\n",
      "                                           Component  \\\n",
      "0   (when: 895615200, who: 31); UI (when: 9045786...   \n",
      "1  UI (when: 904209063, who: 3794); Bugzilla (whe...   \n",
      "2  Windows FE (when: 907138582, who: 3964); XP Ut...   \n",
      "3  Plug-ins (when: 906958277, who: 3960); Plugins...   \n",
      "4  Windows FE (when: 911995846, who: 4137); Layou...   \n",
      "\n",
      "                                          Short Desc  \\\n",
      "0  testing accented char ŕáâăäĺćçčéęëěíîďđńňóôőö÷...   \n",
      "1  Editing of long descriptions is completely hor...   \n",
      "2  \"Save Link As\" Problem (when: 907138582, who: ...   \n",
      "3  Problems with Plugins inside Layers in Navigat...   \n",
      "4  ss: Graphic defects, sporadic crashing at rsac...   \n",
      "\n",
      "                                          Bug Status  \\\n",
      "0  NEW (when: 895615200, who: 31); RESOLVED (when...   \n",
      "1  NEW (when: 904209063, who: 3794); ASSIGNED (wh...   \n",
      "2  NEW (when: 907138582, who: 3964); RESOLVED (wh...   \n",
      "3  NEW (when: 906958277, who: 3960); RESOLVED (wh...   \n",
      "4  NEW (when: 911995846, who: 4137); ASSIGNED (wh...   \n",
      "\n",
      "                                          Resolution  \\\n",
      "0   (when: 895615200, who: 31); INVALID (when: 90...   \n",
      "1   (when: 904209063, who: 3794); FIXED (when: 92...   \n",
      "2   (when: 907138582, who: 3964); WORKSFORME (whe...   \n",
      "3   (when: 906958277, who: 3960); WONTFIX (when: ...   \n",
      "4   (when: 911995846, who: 4137); FIXED (when: 92...   \n",
      "\n",
      "                                         Assigned To  \\\n",
      "0  nobody@mozilla.org (when: 895615200, who: 31);...   \n",
      "1  terry@mozilla.org (when: 904209063, who: 3794)...   \n",
      "2  blythe@netscape.com (when: 907138582, who: 396...   \n",
      "3  michaelp@netscape.com (when: 906958277, who: 3...   \n",
      "4  blythe@netscape.com (when: 911995846, who: 413...   \n",
      "\n",
      "                                                  CC  \\\n",
      "0                    None (when: 895615200, who: 31)   \n",
      "1   (when: 904209063, who: 3794); dave@intrec.com...   \n",
      "2                  None (when: 907138582, who: 3964)   \n",
      "3                  None (when: 906958277, who: 3960)   \n",
      "4                  None (when: 911995846, who: 4137)   \n",
      "\n",
      "                                            Priority  \\\n",
      "0                    None (when: 895615200, who: 31)   \n",
      "1  P2 (when: 904209063, who: 3794); P3 (when: 948...   \n",
      "2                  None (when: 907138582, who: 3964)   \n",
      "3                  None (when: 906958277, who: 3960)   \n",
      "4                  None (when: 911995846, who: 4137)   \n",
      "\n",
      "                                             Version  \\\n",
      "0  1998-03-31 (when: 895615200, who: 31); 1.0 (wh...   \n",
      "1  1.0 (when: 904209063, who: 3794); other (when:...   \n",
      "2  1998-09-04 (when: 907138582, who: 3964); other...   \n",
      "3  other (when: 906958277, who: 3960); 1998-09-04...   \n",
      "4                 Trunk (when: 911995846, who: 4137)   \n",
      "\n",
      "                                    Operating System  \\\n",
      "0                   Other (when: 895615200, who: 31)   \n",
      "1  Windows 95 (when: 904209063, who: 3794); All (...   \n",
      "2            Windows 95 (when: 907138582, who: 3964)   \n",
      "3            Windows NT (when: 906958277, who: 3960)   \n",
      "4            Windows 95 (when: 911995846, who: 4137)   \n",
      "\n",
      "                                            Severity  \\\n",
      "0             enhancement (when: 895615200, who: 31)   \n",
      "1  normal (when: 904209063, who: 3794); enhanceme...   \n",
      "2                normal (when: 907138582, who: 3964)   \n",
      "3                normal (when: 906958277, who: 3960)   \n",
      "4                 major (when: 911995846, who: 4137)   \n",
      "\n",
      "                                             Reports  \n",
      "0  {'opening': 895615200, 'reporter': 31, 'curren...  \n",
      "1  {'opening': 904209063, 'reporter': 3794, 'curr...  \n",
      "2  {'opening': 907138582, 'reporter': 3964, 'curr...  \n",
      "3  {'opening': 906958277, 'reporter': 3960, 'curr...  \n",
      "4  {'opening': 911995846, 'reporter': 4137, 'curr...  \n",
      "\n",
      "Column names:\n",
      "Index(['Bug ID', 'Product', 'Component', 'Short Desc', 'Bug Status',\n",
      "       'Resolution', 'Assigned To', 'CC', 'Priority', 'Version',\n",
      "       'Operating System', 'Severity', 'Reports'],\n",
      "      dtype='object')\n"
     ]
    }
   ],
   "source": [
    "print(\"First few rows of the dataset:\")\n",
    "print(data.head())\n",
    "print(\"\\nColumn names:\")\n",
    "print(data.columns)"
   ]
  },
  {
   "cell_type": "code",
   "execution_count": 4,
   "metadata": {
    "ExecuteTime": {
     "end_time": "2024-12-23T22:30:32.385806Z",
     "start_time": "2024-12-23T22:30:30.580367Z"
    },
    "id": "vmbaEi-L4m2W"
   },
   "outputs": [],
   "source": [
    "#Preprocessing\n",
    "import re\n",
    "\n",
    "def preprocess_text(text):\n",
    "    text = text.lower()\n",
    "    text = ''.join([char for char in text if char.isalnum() or char.isspace()])\n",
    "    return text\n",
    "\n",
    "data['Short Desc'] = data['Short Desc'].apply(preprocess_text)"
   ]
  },
  {
   "cell_type": "code",
   "execution_count": 5,
   "metadata": {
    "ExecuteTime": {
     "end_time": "2024-12-23T22:30:33.367623Z",
     "start_time": "2024-12-23T22:30:33.343038Z"
    },
    "colab": {
     "base_uri": "https://localhost:8080/"
    },
    "id": "SpVhgmAL4udS",
    "outputId": "d60f4c82-f537-4756-cf82-e4861004ea36"
   },
   "outputs": [
    {
     "name": "stdout",
     "output_type": "stream",
     "text": [
      "\n",
      "Data after preprocessing:\n",
      "                                          Short Desc  \\\n",
      "0  testing accented char ŕáâăäĺćçčéęëěíîďđńňóôőöř...   \n",
      "1  editing of long descriptions is completely hor...   \n",
      "2  save link as problem when 907138582 who 3964 b...   \n",
      "3  problems with plugins inside layers in navigat...   \n",
      "4  ss graphic defects sporadic crashing at rsacor...   \n",
      "\n",
      "                                            Severity  \n",
      "0             enhancement (when: 895615200, who: 31)  \n",
      "1  normal (when: 904209063, who: 3794); enhanceme...  \n",
      "2                normal (when: 907138582, who: 3964)  \n",
      "3                normal (when: 906958277, who: 3960)  \n",
      "4                 major (when: 911995846, who: 4137)  \n"
     ]
    }
   ],
   "source": [
    "print(\"\\nData after preprocessing:\")\n",
    "print(data[['Short Desc', 'Severity']].head())"
   ]
  },
  {
   "cell_type": "code",
   "execution_count": 6,
   "metadata": {
    "ExecuteTime": {
     "end_time": "2024-12-23T22:30:34.330883Z",
     "start_time": "2024-12-23T22:30:34.041590Z"
    },
    "colab": {
     "base_uri": "https://localhost:8080/"
    },
    "id": "WJfU-GO94yV7",
    "outputId": "e81125a4-a686-488a-8c39-5a3d1b6cfb57"
   },
   "outputs": [
    {
     "name": "stdout",
     "output_type": "stream",
     "text": [
      "\n",
      "Extracted severity labels:\n",
      "['enhancement' 'normal' 'major' 'critical' 'minor' 'trivial' 'blocker'\n",
      " None]\n"
     ]
    }
   ],
   "source": [
    "#Extracting the most severe label from the Severity column\n",
    "def extract_severity(severity):\n",
    "    labels = severity.split(';')\n",
    "    cleaned_labels = [label.split(' ')[0].split('(')[0].strip().lower() for label in labels]\n",
    "    severity_order = ['critical', 'blocker', 'major', 'normal', 'minor', 'trivial', 'enhancement']\n",
    "    for label in severity_order:\n",
    "        if label in cleaned_labels:\n",
    "            return label\n",
    "    return None\n",
    "\n",
    "#Applying the extraction function\n",
    "data['Severity'] = data['Severity'].apply(extract_severity)\n",
    "\n",
    "print(\"\\nExtracted severity labels:\")\n",
    "print(data['Severity'].unique())"
   ]
  },
  {
   "cell_type": "code",
   "execution_count": 7,
   "metadata": {
    "ExecuteTime": {
     "end_time": "2024-12-23T22:30:35.801536Z",
     "start_time": "2024-12-23T22:30:35.653420Z"
    },
    "id": "T9dtUk0-41bv"
   },
   "outputs": [],
   "source": [
    "#Map severity to binary classes\n",
    "def map_severity(severity):\n",
    "    if severity in ['major', 'critical', 'blocker']:\n",
    "        return 1  #Severe\n",
    "    elif severity in ['minor', 'trivial', 'normal', 'enhancement']:\n",
    "        return 0  #Non-severe\n",
    "    else:\n",
    "        return None\n",
    "\n",
    "data['Severity'] = data['Severity'].apply(map_severity)\n",
    "\n",
    "data = data.dropna(subset=['Severity'])"
   ]
  },
  {
   "cell_type": "code",
   "execution_count": 8,
   "metadata": {
    "ExecuteTime": {
     "end_time": "2024-12-23T22:30:36.785604Z",
     "start_time": "2024-12-23T22:30:36.781900Z"
    },
    "colab": {
     "base_uri": "https://localhost:8080/"
    },
    "id": "DnZxchoS492z",
    "outputId": "0e096f85-82ab-4877-84e3-591cae05e9d1"
   },
   "outputs": [
    {
     "name": "stdout",
     "output_type": "stream",
     "text": [
      "\n",
      "Updated severity label counts:\n",
      "Severity\n",
      "0.0    323280\n",
      "1.0     71597\n",
      "Name: count, dtype: int64\n"
     ]
    }
   ],
   "source": [
    "print(\"\\nUpdated severity label counts:\")\n",
    "print(data['Severity'].value_counts())"
   ]
  },
  {
   "cell_type": "code",
   "execution_count": 9,
   "metadata": {
    "ExecuteTime": {
     "end_time": "2024-12-23T22:30:38.040691Z",
     "start_time": "2024-12-23T22:30:37.534962Z"
    },
    "id": "H5_FYPdB8LXq"
   },
   "outputs": [],
   "source": [
    "#Extracting the base priority label from the Priority column\n",
    "def extract_priority(priority):\n",
    "    return priority.split(' ')[0].strip()\n",
    "\n",
    "data['Priority'] = data['Priority'].apply(extract_priority)\n",
    "\n",
    "#Extracting base labels from Component and Product columns\n",
    "def extract_base_labels(value):\n",
    "    labels = value.split(';')\n",
    "    cleaned_labels = [label.split(' ')[0].strip() for label in labels]\n",
    "    return ','.join(cleaned_labels)\n",
    "\n",
    "data['Component'] = data['Component'].apply(extract_base_labels)\n",
    "data['Product'] = data['Product'].apply(extract_base_labels)"
   ]
  },
  {
   "cell_type": "code",
   "execution_count": 10,
   "metadata": {
    "ExecuteTime": {
     "end_time": "2024-12-23T22:30:38.893391Z",
     "start_time": "2024-12-23T22:30:38.799544Z"
    },
    "id": "qxiB5JbE8OC_"
   },
   "outputs": [],
   "source": [
    "#One-hot encoding additional features\n",
    "priority_features = pd.get_dummies(data['Priority'], drop_first=True, dtype=int).values\n",
    "component_features = pd.get_dummies(data['Component'], drop_first=True, dtype=int).values\n",
    "product_features = pd.get_dummies(data['Product'], drop_first=True, dtype=int).values"
   ]
  },
  {
   "cell_type": "code",
   "execution_count": 11,
   "metadata": {
    "ExecuteTime": {
     "end_time": "2024-12-23T22:30:41.544205Z",
     "start_time": "2024-12-23T22:30:41.528276Z"
    },
    "id": "VHQAEX9B4_R0"
   },
   "outputs": [],
   "source": [
    "X = data['Short Desc']\n",
    "y = data['Severity']"
   ]
  },
  {
   "cell_type": "code",
   "execution_count": 12,
   "metadata": {
    "ExecuteTime": {
     "end_time": "2024-12-23T22:49:24.979672Z",
     "start_time": "2024-12-23T22:30:42.286251Z"
    },
    "colab": {
     "base_uri": "https://localhost:8080/"
    },
    "id": "RuWy_IvQ8QZU",
    "outputId": "237bf2f4-e0d6-4778-d53d-ee2b550376a7"
   },
   "outputs": [
    {
     "name": "stdout",
     "output_type": "stream",
     "text": [
      "--2024-12-23 17:30:42--  http://nlp.stanford.edu/data/glove.6B.zip\r\n",
      "Resolving nlp.stanford.edu (nlp.stanford.edu)... 171.64.67.140\r\n",
      "Connecting to nlp.stanford.edu (nlp.stanford.edu)|171.64.67.140|:80... connected.\r\n",
      "HTTP request sent, awaiting response... 302 Found\r\n",
      "Location: https://nlp.stanford.edu/data/glove.6B.zip [following]\r\n",
      "--2024-12-23 17:30:42--  https://nlp.stanford.edu/data/glove.6B.zip\r\n",
      "Connecting to nlp.stanford.edu (nlp.stanford.edu)|171.64.67.140|:443... connected.\r\n",
      "HTTP request sent, awaiting response... 301 Moved Permanently\r\n",
      "Location: https://downloads.cs.stanford.edu/nlp/data/glove.6B.zip [following]\r\n",
      "--2024-12-23 17:30:42--  https://downloads.cs.stanford.edu/nlp/data/glove.6B.zip\r\n",
      "Resolving downloads.cs.stanford.edu (downloads.cs.stanford.edu)... 171.64.64.22\r\n",
      "Connecting to downloads.cs.stanford.edu (downloads.cs.stanford.edu)|171.64.64.22|:443... connected.\r\n",
      "HTTP request sent, awaiting response... 200 OK\r\n",
      "Length: 862182613 (822M) [application/zip]\r\n",
      "Saving to: ‘glove.6B.zip.2’\r\n",
      "\r\n",
      "glove.6B.zip.2      100%[===================>] 822.24M  5.01MB/s    in 2m 39s  \r\n",
      "\r\n",
      "2024-12-23 17:33:22 (5.17 MB/s) - ‘glove.6B.zip.2’ saved [862182613/862182613]\r\n",
      "\r\n",
      "Archive:  glove.6B.zip\r\n",
      "replace glove.6B.50d.txt? [y]es, [n]o, [A]ll, [N]one, [r]ename: ^C\r\n"
     ]
    }
   ],
   "source": [
    "!wget http://nlp.stanford.edu/data/glove.6B.zip\n",
    "!unzip glove.6B.zip"
   ]
  },
  {
   "cell_type": "code",
   "execution_count": 13,
   "metadata": {
    "ExecuteTime": {
     "end_time": "2024-12-23T22:49:29.908930Z",
     "start_time": "2024-12-23T22:49:26.914689Z"
    },
    "colab": {
     "base_uri": "https://localhost:8080/"
    },
    "id": "Gll1om0e8Sn1",
    "outputId": "c739d73f-13d1-4a66-a269-81f4667ff00f"
   },
   "outputs": [
    {
     "name": "stdout",
     "output_type": "stream",
     "text": [
      "Loading pre-trained word embeddings...\n",
      "Loaded 400000 word vectors.\n"
     ]
    }
   ],
   "source": [
    "#Loading pre-trained word embeddings(GloVe)\n",
    "print(\"Loading pre-trained word embeddings...\")\n",
    "embedding_path = 'glove.6B.50d.txt'\n",
    "embeddings_index = {}\n",
    "with open(embedding_path, encoding='utf-8') as f:\n",
    "    for line in f:\n",
    "        values = line.split()\n",
    "        word = values[0]\n",
    "        coefs = np.asarray(values[1:], dtype='float32')\n",
    "        embeddings_index[word] = coefs\n",
    "print(f\"Loaded {len(embeddings_index)} word vectors.\")"
   ]
  },
  {
   "cell_type": "code",
   "execution_count": 14,
   "metadata": {
    "ExecuteTime": {
     "end_time": "2024-12-23T22:49:44.832597Z",
     "start_time": "2024-12-23T22:49:33.432030Z"
    },
    "id": "v7UOH4UQ5DUH"
   },
   "outputs": [],
   "source": [
    "#Tokenizing and preparing embeddings matrix\n",
    "tokenizer = Tokenizer()\n",
    "tokenizer.fit_on_texts(X)\n",
    "X_seq = tokenizer.texts_to_sequences(X)\n",
    "vocab_size = len(tokenizer.word_index) + 1\n",
    "\n",
    "max_length = 100\n",
    "X_padded = pad_sequences(X_seq, maxlen=max_length, padding='post')\n",
    "\n",
    "embedding_dim = 50\n",
    "embedding_matrix = np.zeros((vocab_size, embedding_dim))\n",
    "for word, i in tokenizer.word_index.items():\n",
    "    embedding_vector = embeddings_index.get(word)\n",
    "    if embedding_vector is not None:\n",
    "        embedding_matrix[i] = embedding_vector"
   ]
  },
  {
   "cell_type": "code",
   "execution_count": null,
   "metadata": {
    "colab": {
     "base_uri": "https://localhost:8080/"
    },
    "id": "6DHRZ0dk8a6U",
    "outputId": "b44d9cdb-955d-4c71-a07f-1e46399a035f"
   },
   "outputs": [],
   "source": [
    "#Concatenating text features with one-hot encoded categorical features\n",
    "categorical_features = np.hstack((priority_features, component_features, product_features))\n",
    "X_combined = np.hstack((X_padded, categorical_features))\n",
    "\n",
    "#Applying SMOTE on the combined feature set\n",
    "smote = SMOTE(random_state=42)\n",
    "X_balanced, y_balanced = smote.fit_resample(X_combined, y)"
   ]
  },
  {
   "cell_type": "code",
   "execution_count": 16,
   "metadata": {
    "ExecuteTime": {
     "end_time": "2024-12-23T22:53:35.422889Z",
     "start_time": "2024-12-23T22:53:26.510799Z"
    },
    "id": "B9rgaNV65EqL"
   },
   "outputs": [],
   "source": [
    "X_train, X_test, y_train, y_test = train_test_split(X_balanced, y_balanced, test_size=0.2, random_state=42)"
   ]
  },
  {
   "cell_type": "code",
   "execution_count": 17,
   "metadata": {
    "ExecuteTime": {
     "end_time": "2024-12-23T22:53:37.354037Z",
     "start_time": "2024-12-23T22:53:37.339937Z"
    },
    "id": "LO2s3srW5MC_"
   },
   "outputs": [
    {
     "name": "stdout",
     "output_type": "stream",
     "text": [
      "\n",
      "Sample tokenized and padded data:\n",
      "[[ 1319  4609  1127 93877     1 93878     2  1975     0     0     0     0\n",
      "      0     0     0     0     0     0     0     0     0     0     0     0\n",
      "      0     0     0     0     0     0     0     0     0     0     0     0\n",
      "      0     0     0     0     0     0     0     0     0     0     0     0\n",
      "      0     0     0     0     0     0     0     0     0     0     0     0\n",
      "      0     0     0     0     0     0     0     0     0     0     0     0\n",
      "      0     0     0     0     0     0     0     0     0     0     0     0\n",
      "      0     0     0     0     0     0     0     0     0     0     0     0\n",
      "      0     0     0     0]\n",
      " [  852     9   283  3171    10   730  4315     1 93879     2  6597   852\n",
      "      9   283  3171   815    10   730  4315     1 93880     2  2967   126\n",
      "    363     4   426   283  1085     1 93881     2  3908   126   363     4\n",
      "    426   283 54332     1 93882     2   853     0     0     0     0     0\n",
      "      0     0     0     0     0     0     0     0     0     0     0     0\n",
      "      0     0     0     0     0     0     0     0     0     0     0     0\n",
      "      0     0     0     0     0     0     0     0     0     0     0     0\n",
      "      0     0     0     0     0     0     0     0     0     0     0     0\n",
      "      0     0     0     0]\n",
      " [  157    66    29   160     1 93883     2 93884   256   409   160     1\n",
      "  93885     2 18671     0     0     0     0     0     0     0     0     0\n",
      "      0     0     0     0     0     0     0     0     0     0     0     0\n",
      "      0     0     0     0     0     0     0     0     0     0     0     0\n",
      "      0     0     0     0     0     0     0     0     0     0     0     0\n",
      "      0     0     0     0     0     0     0     0     0     0     0     0\n",
      "      0     0     0     0     0     0     0     0     0     0     0     0\n",
      "      0     0     0     0     0     0     0     0     0     0     0     0\n",
      "      0     0     0     0]\n",
      " [  265    12   410   259  1207     3  1927     1 93886     2 93887     0\n",
      "      0     0     0     0     0     0     0     0     0     0     0     0\n",
      "      0     0     0     0     0     0     0     0     0     0     0     0\n",
      "      0     0     0     0     0     0     0     0     0     0     0     0\n",
      "      0     0     0     0     0     0     0     0     0     0     0     0\n",
      "      0     0     0     0     0     0     0     0     0     0     0     0\n",
      "      0     0     0     0     0     0     0     0     0     0     0     0\n",
      "      0     0     0     0     0     0     0     0     0     0     0     0\n",
      "      0     0     0     0]\n",
      " [ 6132  2037 11711  3088   906    40 54333     1 93888     2  1222  2037\n",
      "  11711  3088   906    40 54333     1 93889     2   932  4202   527  3160\n",
      "      7   148  1494     1 93890     2  2788   424   207   227   549     4\n",
      "   1308  1755  4202   527  3160     7   148  1494     1 93891     2  2055\n",
      "      0     0     0     0     0     0     0     0     0     0     0     0\n",
      "      0     0     0     0     0     0     0     0     0     0     0     0\n",
      "      0     0     0     0     0     0     0     0     0     0     0     0\n",
      "      0     0     0     0     0     0     0     0     0     0     0     0\n",
      "      0     0     0     0]]\n"
     ]
    }
   ],
   "source": [
    "print(\"\\nSample tokenized and padded data:\")\n",
    "print(X_padded[:5])"
   ]
  },
  {
   "cell_type": "code",
   "execution_count": 18,
   "metadata": {
    "ExecuteTime": {
     "end_time": "2024-12-23T22:53:38.382450Z",
     "start_time": "2024-12-23T22:53:38.095102Z"
    },
    "id": "tZqh_KTB5OY2"
   },
   "outputs": [],
   "source": [
    "#CNN Model for Feature Extraction with GloVe embeddings\n",
    "warnings.filterwarnings(\"ignore\", category=UserWarning, module=\"keras\")\n",
    "cnn_model = Sequential([\n",
    "    Embedding(input_dim=vocab_size, output_dim=embedding_dim, weights=[embedding_matrix], input_length=max_length, trainable=False),\n",
    "    Conv1D(filters=128, kernel_size=5, activation='relu'),\n",
    "    GlobalMaxPooling1D(),\n",
    "    Dense(64, activation='relu'),\n",
    "    Dropout(0.5),\n",
    "    Dense(32, activation='relu'),\n",
    "    Dropout(0.5),\n",
    "    Dense(16, activation='relu'),\n",
    "    Dropout(0.5),\n",
    "    Dense(1, activation='sigmoid')\n",
    "])\n",
    "\n",
    "cnn_model.compile(optimizer='adam', loss='binary_crossentropy', metrics=['accuracy'])"
   ]
  },
  {
   "cell_type": "code",
   "execution_count": 19,
   "metadata": {
    "ExecuteTime": {
     "end_time": "2024-12-23T23:38:32.592163Z",
     "start_time": "2024-12-23T22:53:39.052291Z"
    },
    "id": "bb21RRjm5VHo"
   },
   "outputs": [
    {
     "name": "stdout",
     "output_type": "stream",
     "text": [
      "Epoch 1/5\n",
      "\u001B[1m12932/12932\u001B[0m \u001B[32m━━━━━━━━━━━━━━━━━━━━\u001B[0m\u001B[37m\u001B[0m \u001B[1m538s\u001B[0m 42ms/step - accuracy: 0.7118 - loss: 0.5442 - val_accuracy: 0.7838 - val_loss: 0.4420\n",
      "Epoch 2/5\n",
      "\u001B[1m12932/12932\u001B[0m \u001B[32m━━━━━━━━━━━━━━━━━━━━\u001B[0m\u001B[37m\u001B[0m \u001B[1m536s\u001B[0m 41ms/step - accuracy: 0.7909 - loss: 0.4474 - val_accuracy: 0.7917 - val_loss: 0.4248\n",
      "Epoch 3/5\n",
      "\u001B[1m12932/12932\u001B[0m \u001B[32m━━━━━━━━━━━━━━━━━━━━\u001B[0m\u001B[37m\u001B[0m \u001B[1m536s\u001B[0m 41ms/step - accuracy: 0.8061 - loss: 0.4238 - val_accuracy: 0.8066 - val_loss: 0.4042\n",
      "Epoch 4/5\n",
      "\u001B[1m12932/12932\u001B[0m \u001B[32m━━━━━━━━━━━━━━━━━━━━\u001B[0m\u001B[37m\u001B[0m \u001B[1m541s\u001B[0m 42ms/step - accuracy: 0.8127 - loss: 0.4127 - val_accuracy: 0.8221 - val_loss: 0.3990\n",
      "Epoch 5/5\n",
      "\u001B[1m12932/12932\u001B[0m \u001B[32m━━━━━━━━━━━━━━━━━━━━\u001B[0m\u001B[37m\u001B[0m \u001B[1m540s\u001B[0m 42ms/step - accuracy: 0.8167 - loss: 0.4064 - val_accuracy: 0.7961 - val_loss: 0.4085\n",
      "Training time for CNN model: 2693.53 seconds\n"
     ]
    }
   ],
   "source": [
    "start_time_cnn = time.time()\n",
    "cnn_model.fit(X_train, y_train, epochs=5, batch_size=32, validation_split=0.2)\n",
    "end_time_cnn = time.time()\n",
    "cnn_training_time = end_time_cnn - start_time_cnn\n",
    "print(f\"Training time for CNN model: {cnn_training_time:.2f} seconds\")"
   ]
  },
  {
   "cell_type": "code",
   "execution_count": 20,
   "metadata": {
    "ExecuteTime": {
     "end_time": "2024-12-23T23:49:31.543991Z",
     "start_time": "2024-12-23T23:44:50.973371Z"
    },
    "id": "vJkJtwq_5ZAx"
   },
   "outputs": [
    {
     "name": "stdout",
     "output_type": "stream",
     "text": [
      "\u001B[1m16164/16164\u001B[0m \u001B[32m━━━━━━━━━━━━━━━━━━━━\u001B[0m\u001B[37m\u001B[0m \u001B[1m219s\u001B[0m 14ms/step\n",
      "\u001B[1m4041/4041\u001B[0m \u001B[32m━━━━━━━━━━━━━━━━━━━━\u001B[0m\u001B[37m\u001B[0m \u001B[1m54s\u001B[0m 13ms/step\n",
      "Feature extraction time using CNN: 280.55 seconds\n"
     ]
    }
   ],
   "source": [
    "#Extracting features using CNN\n",
    "start_time_cnn_features = time.time()\n",
    "cnn_feature_extractor = Sequential(cnn_model.layers[:-1])\n",
    "X_train_features = cnn_feature_extractor.predict(X_train)\n",
    "X_test_features = cnn_feature_extractor.predict(X_test)\n",
    "end_time_cnn_features = time.time()\n",
    "cnn_feature_extraction_time = end_time_cnn_features - start_time_cnn_features\n",
    "print(f\"Feature extraction time using CNN: {cnn_feature_extraction_time:.2f} seconds\")"
   ]
  },
  {
   "cell_type": "code",
   "execution_count": 21,
   "metadata": {
    "ExecuteTime": {
     "end_time": "2024-12-23T23:54:17.182459Z",
     "start_time": "2024-12-23T23:53:18.061437Z"
    },
    "id": "LD9QB5fP8t2E"
   },
   "outputs": [
    {
     "name": "stdout",
     "output_type": "stream",
     "text": [
      "Fitting 3 folds for each of 8 candidates, totalling 24 fits\n",
      "Training time for LightGBM model: 59.12 seconds\n",
      "Best parameters found by GridSearchCV: {'boosting_type': 'gbdt', 'learning_rate': 0.05, 'n_estimators': 100, 'num_leaves': 50, 'objective': 'binary'}\n"
     ]
    }
   ],
   "source": [
    "#Training LightGBM Classifier with hyperparameter tuning\n",
    "warnings.filterwarnings(\"ignore\", category=FutureWarning)\n",
    "lgb_params = {\n",
    "    'boosting_type': ['gbdt'],\n",
    "    'objective': ['binary'],\n",
    "    'num_leaves': [31, 50],\n",
    "    'learning_rate': [0.05, 0.1],\n",
    "    'n_estimators': [100, 200]\n",
    "}\n",
    "lgb_model = lgb.LGBMClassifier(class_weight='balanced', verbose=-1)\n",
    "start_time_lgb = time.time()\n",
    "with warnings.catch_warnings():\n",
    "    warnings.simplefilter(\"ignore\", category=FutureWarning)\n",
    "    clf = GridSearchCV(lgb_model, lgb_params, cv=3, scoring='f1', verbose=1)\n",
    "    clf.fit(X_train_features, y_train)\n",
    "end_time_lgb = time.time()\n",
    "lgb_training_time = end_time_lgb - start_time_lgb\n",
    "print(f\"Training time for LightGBM model: {lgb_training_time:.2f} seconds\")\n",
    "\n",
    "print(\"Best parameters found by GridSearchCV:\", clf.best_params_)"
   ]
  },
  {
   "cell_type": "code",
   "execution_count": 22,
   "metadata": {
    "ExecuteTime": {
     "end_time": "2024-12-23T23:59:10.165300Z",
     "start_time": "2024-12-23T23:59:10.164048Z"
    },
    "id": "ndRkEgnDblJr"
   },
   "outputs": [
    {
     "name": "stdout",
     "output_type": "stream",
     "text": [
      "Total training time for hybrid model: 3033.20 seconds\n"
     ]
    }
   ],
   "source": [
    "# Total training time\n",
    "total_training_time = cnn_training_time + cnn_feature_extraction_time + lgb_training_time\n",
    "print(f\"Total training time for hybrid model: {total_training_time:.2f} seconds\")"
   ]
  },
  {
   "cell_type": "code",
   "execution_count": 23,
   "metadata": {
    "ExecuteTime": {
     "end_time": "2024-12-23T23:59:11.095071Z",
     "start_time": "2024-12-23T23:59:10.901657Z"
    },
    "id": "bSCEk7WFCwWe"
   },
   "outputs": [
    {
     "name": "stdout",
     "output_type": "stream",
     "text": [
      "Classification Report:\n",
      "               precision    recall  f1-score   support\n",
      "\n",
      "         0.0       0.79      0.88      0.84     64408\n",
      "         1.0       0.87      0.77      0.82     64904\n",
      "\n",
      "    accuracy                           0.83    129312\n",
      "   macro avg       0.83      0.83      0.83    129312\n",
      "weighted avg       0.83      0.83      0.83    129312\n"
     ]
    }
   ],
   "source": [
    "# Predictions and evaluation\n",
    "y_pred = clf.predict(X_test_features)\n",
    "print(\"Classification Report:\\n\", classification_report(y_test, y_pred))"
   ]
  },
  {
   "cell_type": "code",
   "execution_count": null,
   "metadata": {
    "collapsed": false
   },
   "outputs": [],
   "source": []
  }
 ],
 "metadata": {
  "accelerator": "GPU",
  "colab": {
   "gpuType": "T4",
   "provenance": []
  },
  "kernelspec": {
   "display_name": "Python 3 (ipykernel)",
   "language": "python",
   "name": "python3"
  },
  "language_info": {
   "name": "python"
  }
 },
 "nbformat": 4,
 "nbformat_minor": 0
}
