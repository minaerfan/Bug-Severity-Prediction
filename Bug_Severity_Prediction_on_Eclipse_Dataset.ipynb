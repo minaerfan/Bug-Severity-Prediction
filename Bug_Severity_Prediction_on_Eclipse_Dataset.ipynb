{
 "cells": [
  {
   "cell_type": "code",
   "execution_count": 1,
   "metadata": {
    "ExecuteTime": {
     "end_time": "2024-12-23T21:43:42.208912Z",
     "start_time": "2024-12-23T21:43:35.352302Z"
    },
    "colab": {
     "base_uri": "https://localhost:8080/"
    },
    "id": "J6US62d5I9BV",
    "outputId": "e14b9ec5-6fb0-418a-84c6-60a8af0b4e29"
   },
   "outputs": [
    {
     "name": "stdout",
     "output_type": "stream",
     "text": [
      "Requirement already satisfied: pandas in ./.venv/lib/python3.12/site-packages (2.2.1)\r\n",
      "Requirement already satisfied: numpy in ./.venv/lib/python3.12/site-packages (1.26.4)\r\n",
      "Requirement already satisfied: scikit-learn in ./.venv/lib/python3.12/site-packages (1.6.0)\r\n",
      "Requirement already satisfied: lightgbm in ./.venv/lib/python3.12/site-packages (4.5.0)\r\n",
      "Requirement already satisfied: tensorflow in ./.venv/lib/python3.12/site-packages (2.18.0)\r\n",
      "Requirement already satisfied: matplotlib in ./.venv/lib/python3.12/site-packages (3.8.3)\r\n",
      "Requirement already satisfied: imbalanced-learn in ./.venv/lib/python3.12/site-packages (0.12.4)\r\n",
      "Requirement already satisfied: gensim in ./.venv/lib/python3.12/site-packages (4.3.3)\r\n",
      "Requirement already satisfied: python-dateutil>=2.8.2 in ./.venv/lib/python3.12/site-packages (from pandas) (2.9.0.post0)\r\n",
      "Requirement already satisfied: pytz>=2020.1 in ./.venv/lib/python3.12/site-packages (from pandas) (2024.1)\r\n",
      "Requirement already satisfied: tzdata>=2022.7 in ./.venv/lib/python3.12/site-packages (from pandas) (2024.1)\r\n",
      "Requirement already satisfied: scipy>=1.6.0 in ./.venv/lib/python3.12/site-packages (from scikit-learn) (1.12.0)\r\n",
      "Requirement already satisfied: joblib>=1.2.0 in ./.venv/lib/python3.12/site-packages (from scikit-learn) (1.3.2)\r\n",
      "Requirement already satisfied: threadpoolctl>=3.1.0 in ./.venv/lib/python3.12/site-packages (from scikit-learn) (3.3.0)\r\n",
      "Requirement already satisfied: absl-py>=1.0.0 in ./.venv/lib/python3.12/site-packages (from tensorflow) (2.1.0)\r\n",
      "Requirement already satisfied: astunparse>=1.6.0 in ./.venv/lib/python3.12/site-packages (from tensorflow) (1.6.3)\r\n",
      "Requirement already satisfied: flatbuffers>=24.3.25 in ./.venv/lib/python3.12/site-packages (from tensorflow) (24.3.25)\r\n",
      "Requirement already satisfied: gast!=0.5.0,!=0.5.1,!=0.5.2,>=0.2.1 in ./.venv/lib/python3.12/site-packages (from tensorflow) (0.6.0)\r\n",
      "Requirement already satisfied: google-pasta>=0.1.1 in ./.venv/lib/python3.12/site-packages (from tensorflow) (0.2.0)\r\n",
      "Requirement already satisfied: libclang>=13.0.0 in ./.venv/lib/python3.12/site-packages (from tensorflow) (18.1.1)\r\n",
      "Requirement already satisfied: opt-einsum>=2.3.2 in ./.venv/lib/python3.12/site-packages (from tensorflow) (3.4.0)\r\n",
      "Requirement already satisfied: packaging in ./.venv/lib/python3.12/site-packages (from tensorflow) (24.0)\r\n",
      "Requirement already satisfied: protobuf!=4.21.0,!=4.21.1,!=4.21.2,!=4.21.3,!=4.21.4,!=4.21.5,<6.0.0dev,>=3.20.3 in ./.venv/lib/python3.12/site-packages (from tensorflow) (4.25.3)\r\n",
      "Requirement already satisfied: requests<3,>=2.21.0 in ./.venv/lib/python3.12/site-packages (from tensorflow) (2.31.0)\r\n",
      "Requirement already satisfied: setuptools in ./.venv/lib/python3.12/site-packages (from tensorflow) (70.0.0)\r\n",
      "Requirement already satisfied: six>=1.12.0 in ./.venv/lib/python3.12/site-packages (from tensorflow) (1.16.0)\r\n",
      "Requirement already satisfied: termcolor>=1.1.0 in ./.venv/lib/python3.12/site-packages (from tensorflow) (2.5.0)\r\n",
      "Requirement already satisfied: typing-extensions>=3.6.6 in ./.venv/lib/python3.12/site-packages (from tensorflow) (4.11.0)\r\n",
      "Requirement already satisfied: wrapt>=1.11.0 in ./.venv/lib/python3.12/site-packages (from tensorflow) (1.17.0)\r\n",
      "Requirement already satisfied: grpcio<2.0,>=1.24.3 in ./.venv/lib/python3.12/site-packages (from tensorflow) (1.68.1)\r\n",
      "Requirement already satisfied: tensorboard<2.19,>=2.18 in ./.venv/lib/python3.12/site-packages (from tensorflow) (2.18.0)\r\n",
      "Requirement already satisfied: keras>=3.5.0 in ./.venv/lib/python3.12/site-packages (from tensorflow) (3.7.0)\r\n",
      "Requirement already satisfied: h5py>=3.11.0 in ./.venv/lib/python3.12/site-packages (from tensorflow) (3.12.1)\r\n",
      "Requirement already satisfied: ml-dtypes<0.5.0,>=0.4.0 in ./.venv/lib/python3.12/site-packages (from tensorflow) (0.4.1)\r\n",
      "Requirement already satisfied: contourpy>=1.0.1 in ./.venv/lib/python3.12/site-packages (from matplotlib) (1.2.0)\r\n",
      "Requirement already satisfied: cycler>=0.10 in ./.venv/lib/python3.12/site-packages (from matplotlib) (0.12.1)\r\n",
      "Requirement already satisfied: fonttools>=4.22.0 in ./.venv/lib/python3.12/site-packages (from matplotlib) (4.49.0)\r\n",
      "Requirement already satisfied: kiwisolver>=1.3.1 in ./.venv/lib/python3.12/site-packages (from matplotlib) (1.4.5)\r\n",
      "Requirement already satisfied: pillow>=8 in ./.venv/lib/python3.12/site-packages (from matplotlib) (10.2.0)\r\n",
      "Requirement already satisfied: pyparsing>=2.3.1 in ./.venv/lib/python3.12/site-packages (from matplotlib) (3.1.2)\r\n",
      "Requirement already satisfied: smart-open>=1.8.1 in ./.venv/lib/python3.12/site-packages (from gensim) (7.1.0)\r\n",
      "Requirement already satisfied: wheel<1.0,>=0.23.0 in ./.venv/lib/python3.12/site-packages (from astunparse>=1.6.0->tensorflow) (0.45.1)\r\n",
      "Requirement already satisfied: rich in ./.venv/lib/python3.12/site-packages (from keras>=3.5.0->tensorflow) (13.9.4)\r\n",
      "Requirement already satisfied: namex in ./.venv/lib/python3.12/site-packages (from keras>=3.5.0->tensorflow) (0.0.8)\r\n",
      "Requirement already satisfied: optree in ./.venv/lib/python3.12/site-packages (from keras>=3.5.0->tensorflow) (0.13.1)\r\n",
      "Requirement already satisfied: charset-normalizer<4,>=2 in ./.venv/lib/python3.12/site-packages (from requests<3,>=2.21.0->tensorflow) (3.3.2)\r\n",
      "Requirement already satisfied: idna<4,>=2.5 in ./.venv/lib/python3.12/site-packages (from requests<3,>=2.21.0->tensorflow) (3.6)\r\n",
      "Requirement already satisfied: urllib3<3,>=1.21.1 in ./.venv/lib/python3.12/site-packages (from requests<3,>=2.21.0->tensorflow) (2.2.1)\r\n",
      "Requirement already satisfied: certifi>=2017.4.17 in ./.venv/lib/python3.12/site-packages (from requests<3,>=2.21.0->tensorflow) (2024.8.30)\r\n",
      "Requirement already satisfied: markdown>=2.6.8 in ./.venv/lib/python3.12/site-packages (from tensorboard<2.19,>=2.18->tensorflow) (3.7)\r\n",
      "Requirement already satisfied: tensorboard-data-server<0.8.0,>=0.7.0 in ./.venv/lib/python3.12/site-packages (from tensorboard<2.19,>=2.18->tensorflow) (0.7.2)\r\n",
      "Requirement already satisfied: werkzeug>=1.0.1 in ./.venv/lib/python3.12/site-packages (from tensorboard<2.19,>=2.18->tensorflow) (3.1.3)\r\n",
      "Requirement already satisfied: MarkupSafe>=2.1.1 in ./.venv/lib/python3.12/site-packages (from werkzeug>=1.0.1->tensorboard<2.19,>=2.18->tensorflow) (2.1.5)\r\n",
      "Requirement already satisfied: markdown-it-py>=2.2.0 in ./.venv/lib/python3.12/site-packages (from rich->keras>=3.5.0->tensorflow) (3.0.0)\r\n",
      "Requirement already satisfied: pygments<3.0.0,>=2.13.0 in ./.venv/lib/python3.12/site-packages (from rich->keras>=3.5.0->tensorflow) (2.18.0)\r\n",
      "Requirement already satisfied: mdurl~=0.1 in ./.venv/lib/python3.12/site-packages (from markdown-it-py>=2.2.0->rich->keras>=3.5.0->tensorflow) (0.1.2)\r\n",
      "Requirement already satisfied: scikit-learn in ./.venv/lib/python3.12/site-packages (1.6.0)\r\n",
      "Requirement already satisfied: numpy>=1.19.5 in ./.venv/lib/python3.12/site-packages (from scikit-learn) (1.26.4)\r\n",
      "Requirement already satisfied: scipy>=1.6.0 in ./.venv/lib/python3.12/site-packages (from scikit-learn) (1.12.0)\r\n",
      "Requirement already satisfied: joblib>=1.2.0 in ./.venv/lib/python3.12/site-packages (from scikit-learn) (1.3.2)\r\n",
      "Requirement already satisfied: threadpoolctl>=3.1.0 in ./.venv/lib/python3.12/site-packages (from scikit-learn) (3.3.0)\r\n"
     ]
    }
   ],
   "source": [
    "!pip install pandas numpy scikit-learn lightgbm tensorflow matplotlib imbalanced-learn gensim\n",
    "!pip install -U scikit-learn\n",
    "import pandas as pd\n",
    "import numpy as np\n",
    "from sklearn.model_selection import train_test_split, GridSearchCV\n",
    "from sklearn.metrics import classification_report, precision_score, recall_score, f1_score\n",
    "from imblearn.over_sampling import SMOTE\n",
    "import lightgbm as lgb\n",
    "from tensorflow.keras.models import Sequential\n",
    "from tensorflow.keras.layers import Embedding, Conv1D, GlobalMaxPooling1D, Dense, Dropout\n",
    "from tensorflow.keras.preprocessing.text import Tokenizer\n",
    "from tensorflow.keras.preprocessing.sequence import pad_sequences\n",
    "from tensorflow.keras.layers import LSTM, Bidirectional\n",
    "import matplotlib.pyplot as plt\n",
    "import warnings\n",
    "from gensim.models import KeyedVectors\n",
    "import time\n",
    "from gensim.models import KeyedVectors"
   ]
  },
  {
   "cell_type": "code",
   "execution_count": 2,
   "metadata": {
    "ExecuteTime": {
     "end_time": "2024-12-23T21:44:02.150500Z",
     "start_time": "2024-12-23T21:44:00.361638Z"
    },
    "id": "frsiMAfGOLv7"
   },
   "outputs": [],
   "source": [
    "#Loading dataset\n",
    "dataset_path = 'Eclipse_bugs_data.csv'\n",
    "data = pd.read_csv(dataset_path)"
   ]
  },
  {
   "cell_type": "code",
   "execution_count": 3,
   "metadata": {
    "ExecuteTime": {
     "end_time": "2024-12-23T21:44:03.078862Z",
     "start_time": "2024-12-23T21:44:03.070570Z"
    },
    "colab": {
     "base_uri": "https://localhost:8080/"
    },
    "id": "sCp4hqtmOR9d",
    "outputId": "468aacd6-69b2-4c58-a685-1ec6679a2e20"
   },
   "outputs": [
    {
     "name": "stdout",
     "output_type": "stream",
     "text": [
      "First few rows of the dataset:\n",
      "   Bug ID                                            Product  \\\n",
      "0    4228  JDT (when: 1002748091, who: 29); Platform (whe...   \n",
      "1    3328  JDT (when: 1002747198, who: 46); Platform (whe...   \n",
      "2    4948  JDT (when: 1002896719, who: 57); Platform (whe...   \n",
      "3    4961  JDT (when: 1002928536, who: 35); Platform (whe...   \n",
      "4    4984  JDT (when: 1003136936, who: 25); Platform (whe...   \n",
      "\n",
      "                                           Component  \\\n",
      "0                     UI (when: 1002748091, who: 29)   \n",
      "1              Resources (when: 1002747198, who: 46)   \n",
      "2  UI (when: 1002896719, who: 57); SWT (when: 100...   \n",
      "3  Core (when: 1002928536, who: 35); SWT (when: 1...   \n",
      "4                     UI (when: 1003136936, who: 25)   \n",
      "\n",
      "                                          Short Desc  \\\n",
      "0  Widget is disposed error (1GKCZQM) (when: 1002...   \n",
      "1  Data loss when disk is full (1GIX0JL) (when: 1...   \n",
      "2  Outline scrolls horizontally when selecting me...   \n",
      "3  Preferences dialog disappears when you click o...   \n",
      "4  Errors aren't remved from task list when filte...   \n",
      "\n",
      "                                          Bug Status  \\\n",
      "0  ASSIGNED (when: 1002748091, who: 29); NEW (whe...   \n",
      "1  NEW (when: 1002747198, who: 46); ASSIGNED (whe...   \n",
      "2  NEW (when: 1002896719, who: 57); RESOLVED (whe...   \n",
      "3  NEW (when: 1002928536, who: 35); RESOLVED (whe...   \n",
      "4  NEW (when: 1003136936, who: 25); ASSIGNED (whe...   \n",
      "\n",
      "                                          Resolution  \\\n",
      "0   (when: 1002748091, who: 29); FIXED (when: 101...   \n",
      "1   (when: 1002747198, who: 46); LATER (when: 101...   \n",
      "2   (when: 1002896719, who: 57); LATER (when: 102...   \n",
      "3   (when: 1002928536, who: 35); FIXED (when: 100...   \n",
      "4   (when: 1003136936, who: 25); WORKSFORME (when...   \n",
      "\n",
      "                                         Assigned To  \\\n",
      "0  Claude_Knaus@oti.com (when: 1002748091, who: 2...   \n",
      "1  Philippe_Mulet@oti.com (when: 1002747198, who:...   \n",
      "2  Erich_Gamma@oti.com (when: 1002896719, who: 57...   \n",
      "3  Philippe_Mulet@oti.com (when: 1002928536, who:...   \n",
      "4  Erich_Gamma@oti.com (when: 1003136936, who: 25...   \n",
      "\n",
      "                                                  CC  \\\n",
      "0   (when: 1002748091, who: 29); Claude_Knaus@oti...   \n",
      "1   (when: 1002747198, who: 46); dj_houghton@ca.i...   \n",
      "2                   None (when: 1002896719, who: 57)   \n",
      "3   (when: 1002928536, who: 35); Nick_Edgar@oti.c...   \n",
      "4   (when: 1003136936, who: 25); Martin_Aeschlima...   \n",
      "\n",
      "                                            Priority  \\\n",
      "0  P3 (when: 1002748091, who: 29); P1 (when: 1008...   \n",
      "1  P3 (when: 1002747198, who: 46); P2 (when: 1045...   \n",
      "2                   None (when: 1002896719, who: 57)   \n",
      "3                   None (when: 1002928536, who: 35)   \n",
      "4  P3 (when: 1003136936, who: 25); P1 (when: 1011...   \n",
      "\n",
      "                           Version  \\\n",
      "0  2.0 (when: 1002748091, who: 29)   \n",
      "1  2.0 (when: 1002747198, who: 46)   \n",
      "2  2.0 (when: 1002896719, who: 57)   \n",
      "3  2.0 (when: 1002928536, who: 35)   \n",
      "4  2.0 (when: 1003136936, who: 25)   \n",
      "\n",
      "                                    Operating System  \\\n",
      "0                  Linux (when: 1002748091, who: 29)   \n",
      "1             Windows NT (when: 1002747198, who: 46)   \n",
      "2           Windows 2000 (when: 1002896719, who: 57)   \n",
      "3  Other (when: 1002928536, who: 35); Windows 98 ...   \n",
      "4           Windows 2000 (when: 1003136936, who: 25)   \n",
      "\n",
      "                                            Severity  \\\n",
      "0                 normal (when: 1002748091, who: 29)   \n",
      "1  normal (when: 1002747198, who: 46); major (whe...   \n",
      "2                 normal (when: 1002896719, who: 57)   \n",
      "3                 normal (when: 1002928536, who: 35)   \n",
      "4                 normal (when: 1003136936, who: 25)   \n",
      "\n",
      "                                             Reports  \n",
      "0  {'opening': 1002748091, 'reporter': 29, 'curre...  \n",
      "1  {'opening': 1002747198, 'reporter': 46, 'curre...  \n",
      "2  {'opening': 1002896719, 'reporter': 57, 'curre...  \n",
      "3  {'opening': 1002928536, 'reporter': 35, 'curre...  \n",
      "4  {'opening': 1003136936, 'reporter': 25, 'curre...  \n",
      "\n",
      "Column names:\n",
      "Index(['Bug ID', 'Product', 'Component', 'Short Desc', 'Bug Status',\n",
      "       'Resolution', 'Assigned To', 'CC', 'Priority', 'Version',\n",
      "       'Operating System', 'Severity', 'Reports'],\n",
      "      dtype='object')\n"
     ]
    }
   ],
   "source": [
    "print(\"First few rows of the dataset:\")\n",
    "print(data.head())\n",
    "print(\"\\nColumn names:\")\n",
    "print(data.columns)"
   ]
  },
  {
   "cell_type": "code",
   "execution_count": 4,
   "metadata": {
    "ExecuteTime": {
     "end_time": "2024-12-23T21:44:06.095248Z",
     "start_time": "2024-12-23T21:44:05.287976Z"
    },
    "id": "vmiHiKzxbl5g"
   },
   "outputs": [],
   "source": [
    "#Preprocessing\n",
    "import re\n",
    "\n",
    "def preprocess_text(text):\n",
    "    text = text.lower()\n",
    "    text = ''.join([char for char in text if char.isalnum() or char.isspace()])\n",
    "    return text\n",
    "\n",
    "data['Short Desc'] = data['Short Desc'].apply(preprocess_text)"
   ]
  },
  {
   "cell_type": "code",
   "execution_count": 5,
   "metadata": {
    "ExecuteTime": {
     "end_time": "2024-12-23T21:44:07.851875Z",
     "start_time": "2024-12-23T21:44:07.845597Z"
    },
    "colab": {
     "base_uri": "https://localhost:8080/"
    },
    "id": "2F5GrdVbb4T2",
    "outputId": "f90e26c8-f20d-475a-9e83-42a77a75e3e5"
   },
   "outputs": [
    {
     "name": "stdout",
     "output_type": "stream",
     "text": [
      "\n",
      "Data after preprocessing:\n",
      "                                          Short Desc  \\\n",
      "0  widget is disposed error 1gkczqm when 10027480...   \n",
      "1  data loss when disk is full 1gix0jl when 10027...   \n",
      "2  outline scrolls horizontally when selecting me...   \n",
      "3  preferences dialog disappears when you click o...   \n",
      "4  errors arent remved from task list when filter...   \n",
      "\n",
      "                                            Severity  \n",
      "0                 normal (when: 1002748091, who: 29)  \n",
      "1  normal (when: 1002747198, who: 46); major (whe...  \n",
      "2                 normal (when: 1002896719, who: 57)  \n",
      "3                 normal (when: 1002928536, who: 35)  \n",
      "4                 normal (when: 1003136936, who: 25)  \n"
     ]
    }
   ],
   "source": [
    "print(\"\\nData after preprocessing:\")\n",
    "print(data[['Short Desc', 'Severity']].head())"
   ]
  },
  {
   "cell_type": "code",
   "execution_count": 6,
   "metadata": {
    "ExecuteTime": {
     "end_time": "2024-12-23T21:44:11.483533Z",
     "start_time": "2024-12-23T21:44:11.404683Z"
    },
    "colab": {
     "base_uri": "https://localhost:8080/"
    },
    "id": "BEOuEPO0cMeh",
    "outputId": "45027cc6-004a-497f-9f90-f89cf55b55bc"
   },
   "outputs": [
    {
     "name": "stdout",
     "output_type": "stream",
     "text": [
      "\n",
      "Extracted severity labels:\n",
      "['normal' 'major' 'enhancement' 'minor' 'trivial' 'critical' 'blocker']\n"
     ]
    }
   ],
   "source": [
    "#Extracting the most severe label from the Severity column\n",
    "def extract_severity(severity):\n",
    "    labels = severity.split(';')\n",
    "    cleaned_labels = [label.split(' ')[0].split('(')[0].strip().lower() for label in labels]\n",
    "    severity_order = ['critical', 'blocker', 'major', 'normal', 'minor', 'trivial', 'enhancement']\n",
    "    for label in severity_order:\n",
    "        if label in cleaned_labels:\n",
    "            return label\n",
    "    return None\n",
    "\n",
    "#Applying the extraction function\n",
    "data['Severity'] = data['Severity'].apply(extract_severity)\n",
    "\n",
    "print(\"\\nExtracted severity labels:\")\n",
    "print(data['Severity'].unique())"
   ]
  },
  {
   "cell_type": "code",
   "execution_count": 7,
   "metadata": {
    "ExecuteTime": {
     "end_time": "2024-12-23T21:44:12.959198Z",
     "start_time": "2024-12-23T21:44:12.894655Z"
    },
    "id": "TUdrN2CpdItk"
   },
   "outputs": [],
   "source": [
    "#Map severity to binary classes\n",
    "def map_severity(severity):\n",
    "    if severity in ['major', 'critical', 'blocker']:\n",
    "        return 1  #Severe\n",
    "    elif severity in ['minor', 'trivial', 'normal', 'enhancement']:\n",
    "        return 0  #Non-severe\n",
    "    else:\n",
    "        return None\n",
    "\n",
    "data['Severity'] = data['Severity'].apply(map_severity)\n",
    "\n",
    "data = data.dropna(subset=['Severity'])"
   ]
  },
  {
   "cell_type": "code",
   "execution_count": 8,
   "metadata": {
    "ExecuteTime": {
     "end_time": "2024-12-23T21:44:13.762942Z",
     "start_time": "2024-12-23T21:44:13.758530Z"
    },
    "colab": {
     "base_uri": "https://localhost:8080/"
    },
    "id": "KeFYW25idXBx",
    "outputId": "f45bad05-763a-4344-eb5f-1d3fae2ea7b3"
   },
   "outputs": [
    {
     "name": "stdout",
     "output_type": "stream",
     "text": [
      "\n",
      "Updated severity label counts:\n",
      "Severity\n",
      "0    147424\n",
      "1     18123\n",
      "Name: count, dtype: int64\n"
     ]
    }
   ],
   "source": [
    "print(\"\\nUpdated severity label counts:\")\n",
    "print(data['Severity'].value_counts())"
   ]
  },
  {
   "cell_type": "code",
   "execution_count": 9,
   "metadata": {
    "ExecuteTime": {
     "end_time": "2024-12-23T21:44:14.640551Z",
     "start_time": "2024-12-23T21:44:14.482626Z"
    },
    "id": "HIzSkt3y3kYW"
   },
   "outputs": [],
   "source": [
    "#Extracting the base priority label from the Priority column\n",
    "def extract_priority(priority):\n",
    "    return priority.split(' ')[0].strip()\n",
    "\n",
    "data['Priority'] = data['Priority'].apply(extract_priority)\n",
    "\n",
    "#Extracting base labels from Component and Product columns\n",
    "def extract_base_labels(value):\n",
    "    labels = value.split(';')\n",
    "    cleaned_labels = [label.split(' ')[0].strip() for label in labels]\n",
    "    return ','.join(cleaned_labels)\n",
    "\n",
    "data['Component'] = data['Component'].apply(extract_base_labels)\n",
    "data['Product'] = data['Product'].apply(extract_base_labels)"
   ]
  },
  {
   "cell_type": "code",
   "execution_count": 10,
   "metadata": {
    "ExecuteTime": {
     "end_time": "2024-12-23T21:44:15.355538Z",
     "start_time": "2024-12-23T21:44:15.317080Z"
    },
    "id": "cOfkyWRu3_bP"
   },
   "outputs": [],
   "source": [
    "#One-hot encoding additional features\n",
    "priority_features = pd.get_dummies(data['Priority'], drop_first=True, dtype=int).values\n",
    "component_features = pd.get_dummies(data['Component'], drop_first=True, dtype=int).values\n",
    "product_features = pd.get_dummies(data['Product'], drop_first=True, dtype=int).values"
   ]
  },
  {
   "cell_type": "code",
   "execution_count": 11,
   "metadata": {
    "ExecuteTime": {
     "end_time": "2024-12-23T21:44:16.809375Z",
     "start_time": "2024-12-23T21:44:16.793628Z"
    },
    "id": "WD_IACFNdY2E"
   },
   "outputs": [],
   "source": [
    "X = data['Short Desc']\n",
    "y = data['Severity']"
   ]
  },
  {
   "cell_type": "code",
   "execution_count": 12,
   "metadata": {
    "ExecuteTime": {
     "end_time": "2024-12-23T22:03:46.912258Z",
     "start_time": "2024-12-23T21:44:18.104660Z"
    },
    "colab": {
     "base_uri": "https://localhost:8080/"
    },
    "id": "zwgSYMQA4hZs",
    "outputId": "7c1dbf6a-2af1-4ebc-c4be-baf4e80471fc"
   },
   "outputs": [
    {
     "name": "stdout",
     "output_type": "stream",
     "text": [
      "--2024-12-23 16:44:18--  http://nlp.stanford.edu/data/glove.6B.zip\r\n",
      "Resolving nlp.stanford.edu (nlp.stanford.edu)... 171.64.67.140\r\n",
      "Connecting to nlp.stanford.edu (nlp.stanford.edu)|171.64.67.140|:80... connected.\r\n",
      "HTTP request sent, awaiting response... 302 Found\r\n",
      "Location: https://nlp.stanford.edu/data/glove.6B.zip [following]\r\n",
      "--2024-12-23 16:44:18--  https://nlp.stanford.edu/data/glove.6B.zip\r\n",
      "Connecting to nlp.stanford.edu (nlp.stanford.edu)|171.64.67.140|:443... connected.\r\n",
      "HTTP request sent, awaiting response... 301 Moved Permanently\r\n",
      "Location: https://downloads.cs.stanford.edu/nlp/data/glove.6B.zip [following]\r\n",
      "--2024-12-23 16:44:18--  https://downloads.cs.stanford.edu/nlp/data/glove.6B.zip\r\n",
      "Resolving downloads.cs.stanford.edu (downloads.cs.stanford.edu)... 171.64.64.22\r\n",
      "Connecting to downloads.cs.stanford.edu (downloads.cs.stanford.edu)|171.64.64.22|:443... connected.\r\n",
      "HTTP request sent, awaiting response... 200 OK\r\n",
      "Length: 862182613 (822M) [application/zip]\r\n",
      "Saving to: ‘glove.6B.zip.1’\r\n",
      "\r\n",
      "glove.6B.zip.1      100%[===================>] 822.24M  5.01MB/s    in 2m 39s  \r\n",
      "\r\n",
      "2024-12-23 16:46:58 (5.16 MB/s) - ‘glove.6B.zip.1’ saved [862182613/862182613]\r\n",
      "\r\n",
      "Archive:  glove.6B.zip\r\n",
      "replace glove.6B.50d.txt? [y]es, [n]o, [A]ll, [N]one, [r]ename: ^C\r\n"
     ]
    }
   ],
   "source": [
    "!wget http://nlp.stanford.edu/data/glove.6B.zip\n",
    "!unzip glove.6B.zip"
   ]
  },
  {
   "cell_type": "code",
   "execution_count": 14,
   "metadata": {
    "ExecuteTime": {
     "end_time": "2024-12-23T22:03:59.997999Z",
     "start_time": "2024-12-23T22:03:57.045077Z"
    },
    "colab": {
     "base_uri": "https://localhost:8080/"
    },
    "id": "QLGHy6XC4KHK",
    "outputId": "dd84fba9-f51a-4477-dd16-be6e87f8e6ed"
   },
   "outputs": [
    {
     "name": "stdout",
     "output_type": "stream",
     "text": [
      "Loading pre-trained word embeddings...\n",
      "Loaded 400000 word vectors.\n"
     ]
    }
   ],
   "source": [
    "#Loading pre-trained word embeddings(GloVe)\n",
    "print(\"Loading pre-trained word embeddings...\")\n",
    "embedding_path = 'glove.6B.50d.txt'\n",
    "embeddings_index = {}\n",
    "with open(embedding_path, encoding='utf-8') as f:\n",
    "    for line in f:\n",
    "        values = line.split()\n",
    "        word = values[0]\n",
    "        coefs = np.asarray(values[1:], dtype='float32')\n",
    "        embeddings_index[word] = coefs\n",
    "print(f\"Loaded {len(embeddings_index)} word vectors.\")"
   ]
  },
  {
   "cell_type": "code",
   "execution_count": 15,
   "metadata": {
    "ExecuteTime": {
     "end_time": "2024-12-23T22:04:06.640166Z",
     "start_time": "2024-12-23T22:04:02.089785Z"
    },
    "id": "80GbIrwpdbwf"
   },
   "outputs": [],
   "source": [
    "#Tokenizing and preparing embeddings matrix\n",
    "tokenizer = Tokenizer()\n",
    "tokenizer.fit_on_texts(X)\n",
    "X_seq = tokenizer.texts_to_sequences(X)\n",
    "vocab_size = len(tokenizer.word_index) + 1\n",
    "\n",
    "max_length = 100\n",
    "X_padded = pad_sequences(X_seq, maxlen=max_length, padding='post')\n",
    "\n",
    "embedding_dim = 50\n",
    "embedding_matrix = np.zeros((vocab_size, embedding_dim))\n",
    "for word, i in tokenizer.word_index.items():\n",
    "    embedding_vector = embeddings_index.get(word)\n",
    "    if embedding_vector is not None:\n",
    "        embedding_matrix[i] = embedding_vector"
   ]
  },
  {
   "cell_type": "code",
   "execution_count": 2,
   "metadata": {
    "colab": {
     "base_uri": "https://localhost:8080/"
    },
    "id": "p5AYDmN75pWa",
    "outputId": "055b82b9-0955-4bb2-ed59-5c0cc7273163",
    "ExecuteTime": {
     "end_time": "2024-12-24T01:03:12.055946Z",
     "start_time": "2024-12-24T01:03:12.036591Z"
    }
   },
   "outputs": [
    {
     "ename": "NameError",
     "evalue": "name 'np' is not defined",
     "output_type": "error",
     "traceback": [
      "\u001B[0;31m---------------------------------------------------------------------------\u001B[0m",
      "\u001B[0;31mNameError\u001B[0m                                 Traceback (most recent call last)",
      "Cell \u001B[0;32mIn[2], line 3\u001B[0m\n\u001B[1;32m      1\u001B[0m warnings\u001B[38;5;241m.\u001B[39mfilterwarnings(\u001B[38;5;124m\"\u001B[39m\u001B[38;5;124mignore\u001B[39m\u001B[38;5;124m\"\u001B[39m, category\u001B[38;5;241m=\u001B[39m\u001B[38;5;167;01mFutureWarning\u001B[39;00m)\n\u001B[1;32m      2\u001B[0m \u001B[38;5;66;03m#Concatenating text features with one-hot encoded categorical features\u001B[39;00m\n\u001B[0;32m----> 3\u001B[0m categorical_features \u001B[38;5;241m=\u001B[39m \u001B[43mnp\u001B[49m\u001B[38;5;241m.\u001B[39mhstack((priority_features, component_features, product_features))\n\u001B[1;32m      4\u001B[0m X_combined \u001B[38;5;241m=\u001B[39m np\u001B[38;5;241m.\u001B[39mhstack((X_padded, categorical_features))\n\u001B[1;32m      6\u001B[0m \u001B[38;5;66;03m#Applying SMOTE on the combined feature set\u001B[39;00m\n",
      "\u001B[0;31mNameError\u001B[0m: name 'np' is not defined"
     ]
    }
   ],
   "source": [
    "warnings.filterwarnings(\"ignore\", category=FutureWarning)\n",
    "#Concatenating text features with one-hot encoded categorical features\n",
    "categorical_features = np.hstack((priority_features, component_features, product_features))\n",
    "X_combined = np.hstack((X_padded, categorical_features))\n",
    "\n",
    "#Applying SMOTE on the combined feature set\n",
    "smote = SMOTE(random_state=42)\n",
    "X_balanced, y_balanced = smote.fit_resample(X_combined, y)"
   ]
  },
  {
   "cell_type": "code",
   "execution_count": 17,
   "metadata": {
    "ExecuteTime": {
     "end_time": "2024-12-23T22:05:28.965026Z",
     "start_time": "2024-12-23T22:05:27.761640Z"
    },
    "id": "rNxxphwndiKd"
   },
   "outputs": [],
   "source": [
    "X_train, X_test, y_train, y_test = train_test_split(X_balanced, y_balanced, test_size=0.2, random_state=42)"
   ]
  },
  {
   "cell_type": "code",
   "execution_count": 18,
   "metadata": {
    "ExecuteTime": {
     "end_time": "2024-12-23T22:05:30.318427Z",
     "start_time": "2024-12-23T22:05:30.307590Z"
    },
    "colab": {
     "base_uri": "https://localhost:8080/"
    },
    "id": "6j2ekysjdnoV",
    "outputId": "81459a08-6def-46ae-a181-5925e26a4caf"
   },
   "outputs": [
    {
     "name": "stdout",
     "output_type": "stream",
     "text": [
      "\n",
      "Sample tokenized and padded data:\n",
      "[[  248    11   458    23 35504     1 35505     2   218     0     0     0\n",
      "      0     0     0     0     0     0     0     0     0     0     0     0\n",
      "      0     0     0     0     0     0     0     0     0     0     0     0\n",
      "      0     0     0     0     0     0     0     0     0     0     0     0\n",
      "      0     0     0     0     0     0     0     0     0     0     0     0\n",
      "      0     0     0     0     0     0     0     0     0     0     0     0\n",
      "      0     0     0     0     0     0     0     0     0     0     0     0\n",
      "      0     0     0     0     0     0     0     0     0     0     0     0\n",
      "      0     0     0     0]\n",
      " [  658  1991     1  1778    11   718 21174     1 35506     2   439   207\n",
      "    658  1991     1  1778    11   718 21174     1 35507     2   175     0\n",
      "      0     0     0     0     0     0     0     0     0     0     0     0\n",
      "      0     0     0     0     0     0     0     0     0     0     0     0\n",
      "      0     0     0     0     0     0     0     0     0     0     0     0\n",
      "      0     0     0     0     0     0     0     0     0     0     0     0\n",
      "      0     0     0     0     0     0     0     0     0     0     0     0\n",
      "      0     0     0     0     0     0     0     0     0     0     0     0\n",
      "      0     0     0     0]\n",
      " [  252  1587  2508     1   592    39     3   401    14     1 35508     2\n",
      "     71     0     0     0     0     0     0     0     0     0     0     0\n",
      "      0     0     0     0     0     0     0     0     0     0     0     0\n",
      "      0     0     0     0     0     0     0     0     0     0     0     0\n",
      "      0     0     0     0     0     0     0     0     0     0     0     0\n",
      "      0     0     0     0     0     0     0     0     0     0     0     0\n",
      "      0     0     0     0     0     0     0     0     0     0     0     0\n",
      "      0     0     0     0     0     0     0     0     0     0     0     0\n",
      "      0     0     0     0]\n",
      " [   72    24  1140     1   760   436     8  1026   468     1 35509     2\n",
      "    511     0     0     0     0     0     0     0     0     0     0     0\n",
      "      0     0     0     0     0     0     0     0     0     0     0     0\n",
      "      0     0     0     0     0     0     0     0     0     0     0     0\n",
      "      0     0     0     0     0     0     0     0     0     0     0     0\n",
      "      0     0     0     0     0     0     0     0     0     0     0     0\n",
      "      0     0     0     0     0     0     0     0     0     0     0     0\n",
      "      0     0     0     0     0     0     0     0     0     0     0     0\n",
      "      0     0     0     0]\n",
      " [  149  1385 21175    20   251   172     1   224    11    76     1 35510\n",
      "      2   672     0     0     0     0     0     0     0     0     0     0\n",
      "      0     0     0     0     0     0     0     0     0     0     0     0\n",
      "      0     0     0     0     0     0     0     0     0     0     0     0\n",
      "      0     0     0     0     0     0     0     0     0     0     0     0\n",
      "      0     0     0     0     0     0     0     0     0     0     0     0\n",
      "      0     0     0     0     0     0     0     0     0     0     0     0\n",
      "      0     0     0     0     0     0     0     0     0     0     0     0\n",
      "      0     0     0     0]]\n"
     ]
    }
   ],
   "source": [
    "print(\"\\nSample tokenized and padded data:\")\n",
    "print(X_padded[:5])"
   ]
  },
  {
   "cell_type": "code",
   "execution_count": 19,
   "metadata": {
    "ExecuteTime": {
     "end_time": "2024-12-23T22:05:31.617820Z",
     "start_time": "2024-12-23T22:05:31.481459Z"
    },
    "id": "2V9WOSb3dpJc"
   },
   "outputs": [],
   "source": [
    "#CNN Model for Feature Extraction with GloVe embeddings\n",
    "warnings.filterwarnings(\"ignore\", category=UserWarning, module=\"keras\")\n",
    "cnn_model = Sequential([\n",
    "    Embedding(input_dim=vocab_size, output_dim=embedding_dim, weights=[embedding_matrix], input_length=max_length, trainable=False),\n",
    "    Conv1D(filters=128, kernel_size=5, activation='relu'),\n",
    "    GlobalMaxPooling1D(),\n",
    "    Dense(64, activation='relu'),\n",
    "    Dropout(0.5),\n",
    "    Dense(32, activation='relu'),\n",
    "    Dropout(0.5),\n",
    "    Dense(16, activation='relu'),\n",
    "    Dropout(0.5),\n",
    "    Dense(1, activation='sigmoid')\n",
    "])\n",
    "\n",
    "cnn_model.compile(optimizer='adam', loss='binary_crossentropy', metrics=['accuracy'])"
   ]
  },
  {
   "cell_type": "code",
   "execution_count": 20,
   "metadata": {
    "ExecuteTime": {
     "end_time": "2024-12-23T22:16:02.857883Z",
     "start_time": "2024-12-23T22:05:32.673462Z"
    },
    "colab": {
     "base_uri": "https://localhost:8080/"
    },
    "id": "MVGJt2-6d99I",
    "outputId": "3fa42605-17d8-4b30-a0fa-1844e8249a54"
   },
   "outputs": [
    {
     "name": "stdout",
     "output_type": "stream",
     "text": [
      "Epoch 1/5\n",
      "\u001B[1m5897/5897\u001B[0m \u001B[32m━━━━━━━━━━━━━━━━━━━━\u001B[0m\u001B[37m\u001B[0m \u001B[1m129s\u001B[0m 22ms/step - accuracy: 0.7758 - loss: 0.4553 - val_accuracy: 0.8590 - val_loss: 0.3395\n",
      "Epoch 2/5\n",
      "\u001B[1m5897/5897\u001B[0m \u001B[32m━━━━━━━━━━━━━━━━━━━━\u001B[0m\u001B[37m\u001B[0m \u001B[1m124s\u001B[0m 21ms/step - accuracy: 0.8463 - loss: 0.3498 - val_accuracy: 0.8550 - val_loss: 0.3274\n",
      "Epoch 3/5\n",
      "\u001B[1m5897/5897\u001B[0m \u001B[32m━━━━━━━━━━━━━━━━━━━━\u001B[0m\u001B[37m\u001B[0m \u001B[1m124s\u001B[0m 21ms/step - accuracy: 0.8537 - loss: 0.3359 - val_accuracy: 0.8696 - val_loss: 0.3080\n",
      "Epoch 4/5\n",
      "\u001B[1m5897/5897\u001B[0m \u001B[32m━━━━━━━━━━━━━━━━━━━━\u001B[0m\u001B[37m\u001B[0m \u001B[1m126s\u001B[0m 21ms/step - accuracy: 0.8626 - loss: 0.3218 - val_accuracy: 0.8635 - val_loss: 0.3098\n",
      "Epoch 5/5\n",
      "\u001B[1m5897/5897\u001B[0m \u001B[32m━━━━━━━━━━━━━━━━━━━━\u001B[0m\u001B[37m\u001B[0m \u001B[1m126s\u001B[0m 21ms/step - accuracy: 0.8671 - loss: 0.3140 - val_accuracy: 0.8664 - val_loss: 0.3061\n",
      "Training time for CNN model: 630.18 seconds\n"
     ]
    }
   ],
   "source": [
    "start_time_cnn = time.time()\n",
    "cnn_model.fit(X_train, y_train, epochs=5, batch_size=32, validation_split=0.2)\n",
    "end_time_cnn = time.time()\n",
    "cnn_training_time = end_time_cnn - start_time_cnn\n",
    "print(f\"Training time for CNN model: {cnn_training_time:.2f} seconds\")"
   ]
  },
  {
   "cell_type": "code",
   "execution_count": 21,
   "metadata": {
    "ExecuteTime": {
     "end_time": "2024-12-23T22:17:54.298937Z",
     "start_time": "2024-12-23T22:16:49.214335Z"
    },
    "colab": {
     "base_uri": "https://localhost:8080/"
    },
    "id": "wN-b4-KeebBv",
    "outputId": "4a7b877a-dcf5-4ecf-a963-718497f373b5"
   },
   "outputs": [
    {
     "name": "stdout",
     "output_type": "stream",
     "text": [
      "\u001B[1m7372/7372\u001B[0m \u001B[32m━━━━━━━━━━━━━━━━━━━━\u001B[0m\u001B[37m\u001B[0m \u001B[1m51s\u001B[0m 7ms/step\n",
      "\u001B[1m1843/1843\u001B[0m \u001B[32m━━━━━━━━━━━━━━━━━━━━\u001B[0m\u001B[37m\u001B[0m \u001B[1m12s\u001B[0m 7ms/step\n",
      "Feature extraction time using CNN: 65.08 seconds\n"
     ]
    }
   ],
   "source": [
    "#Extracting features using CNN\n",
    "start_time_cnn_features = time.time()\n",
    "cnn_feature_extractor = Sequential(cnn_model.layers[:-1])\n",
    "X_train_features = cnn_feature_extractor.predict(X_train)\n",
    "X_test_features = cnn_feature_extractor.predict(X_test)\n",
    "end_time_cnn_features = time.time()\n",
    "cnn_feature_extraction_time = end_time_cnn_features - start_time_cnn_features\n",
    "print(f\"Feature extraction time using CNN: {cnn_feature_extraction_time:.2f} seconds\")"
   ]
  },
  {
   "cell_type": "code",
   "execution_count": 22,
   "metadata": {
    "ExecuteTime": {
     "end_time": "2024-12-23T22:27:10.615682Z",
     "start_time": "2024-12-23T22:26:26.622885Z"
    },
    "colab": {
     "base_uri": "https://localhost:8080/"
    },
    "id": "CNR77ONUEfXk",
    "outputId": "0f095b94-c76c-4525-d289-62383d2872f7"
   },
   "outputs": [
    {
     "name": "stdout",
     "output_type": "stream",
     "text": [
      "Fitting 3 folds for each of 8 candidates, totalling 24 fits\n",
      "Training time for LightGBM model: 43.99 seconds\n",
      "Best parameters found by GridSearchCV: {'boosting_type': 'gbdt', 'learning_rate': 0.05, 'n_estimators': 200, 'num_leaves': 31, 'objective': 'binary'}\n"
     ]
    }
   ],
   "source": [
    "#Training LightGBM Classifier with hyperparameter tuning\n",
    "warnings.filterwarnings(\"ignore\", category=FutureWarning)\n",
    "lgb_params = {\n",
    "    'boosting_type': ['gbdt'],\n",
    "    'objective': ['binary'],\n",
    "    'num_leaves': [31, 50],\n",
    "    'learning_rate': [0.05, 0.1],\n",
    "    'n_estimators': [100, 200]\n",
    "}\n",
    "lgb_model = lgb.LGBMClassifier(class_weight='balanced', verbose=-1)\n",
    "start_time_lgb = time.time()\n",
    "with warnings.catch_warnings():\n",
    "    warnings.simplefilter(\"ignore\", category=FutureWarning)\n",
    "    clf = GridSearchCV(lgb_model, lgb_params, cv=3, scoring='f1', verbose=1)\n",
    "    clf.fit(X_train_features, y_train)\n",
    "end_time_lgb = time.time()\n",
    "lgb_training_time = end_time_lgb - start_time_lgb\n",
    "print(f\"Training time for LightGBM model: {lgb_training_time:.2f} seconds\")\n",
    "\n",
    "print(\"Best parameters found by GridSearchCV:\", clf.best_params_)"
   ]
  },
  {
   "cell_type": "code",
   "execution_count": 23,
   "metadata": {
    "ExecuteTime": {
     "end_time": "2024-12-23T22:28:51.683459Z",
     "start_time": "2024-12-23T22:28:51.672794Z"
    },
    "id": "qhzxpzepaVLb"
   },
   "outputs": [
    {
     "name": "stdout",
     "output_type": "stream",
     "text": [
      "Total training time for hybrid model: 739.24 seconds\n"
     ]
    }
   ],
   "source": [
    "# Total training time\n",
    "total_training_time = cnn_training_time + cnn_feature_extraction_time + lgb_training_time\n",
    "print(f\"Total training time for hybrid model: {total_training_time:.2f} seconds\")"
   ]
  },
  {
   "cell_type": "code",
   "execution_count": 24,
   "metadata": {
    "ExecuteTime": {
     "end_time": "2024-12-23T22:28:52.950997Z",
     "start_time": "2024-12-23T22:28:52.816376Z"
    },
    "colab": {
     "base_uri": "https://localhost:8080/"
    },
    "id": "VmRoYgNYGMdX",
    "outputId": "98afbd68-c6ab-49b5-8fe3-0f0438242eaf"
   },
   "outputs": [
    {
     "name": "stdout",
     "output_type": "stream",
     "text": [
      "Classification Report:\n",
      "               precision    recall  f1-score   support\n",
      "\n",
      "           0       0.83      0.94      0.88     29422\n",
      "           1       0.93      0.81      0.87     29548\n",
      "\n",
      "    accuracy                           0.88     58970\n",
      "   macro avg       0.88      0.88      0.88     58970\n",
      "weighted avg       0.88      0.88      0.88     58970\n"
     ]
    }
   ],
   "source": [
    "#Predictions and evaluation\n",
    "y_pred = clf.predict(X_test_features)\n",
    "print(\"Classification Report:\\n\", classification_report(y_test, y_pred))"
   ]
  },
  {
   "cell_type": "code",
   "execution_count": null,
   "metadata": {
    "id": "1AiE_7cZGoLx"
   },
   "outputs": [],
   "source": []
  }
 ],
 "metadata": {
  "colab": {
   "provenance": []
  },
  "kernelspec": {
   "display_name": "Python 3 (ipykernel)",
   "language": "python",
   "name": "python3"
  },
  "language_info": {
   "name": "python"
  }
 },
 "nbformat": 4,
 "nbformat_minor": 0
}
